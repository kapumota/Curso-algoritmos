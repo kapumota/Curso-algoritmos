{
 "cells": [
  {
   "cell_type": "markdown",
   "metadata": {
    "id": "tI2z1-Kt0QPi"
   },
   "source": [
    "# Algoritmo de búsqueda binaria\n",
    "\n",
    "El propósito de este notebook es explicar el algoritmo de búsqueda binaria en detalle, mostrando cómo demostrar la **correctitud**, **terminación** y derivando el tiempo de ejecución. Este material complementa la clase que explica la idea principal detrás del algoritmo.\n",
    "\n",
    "Dada una lista _ordenada_ (se asume orden ascendente) de $n$ elementos, queremos determinar si un elemento dado `elt` pertenece a la lista.\n",
    "\n",
    "El algoritmo de búsqueda binaria reduce repetidamente el posible rango de ubicación del elemento comparando el elemento central en el rango de búsqueda con el elemento que buscamos. Se espera encontrar el elemento en cada paso, aprovechando el hecho de que la lista está ordenada.\n",
    "\n",
    "**TAREA**: Revisa la clase sobre búsqueda binaria antes de continuar.\n",
    "\n",
    "Queremos implementar una función `binarySearchHelper(lst, elt, left, right)` donde:\n",
    "  - `lst` es una lista no vacía con al menos 2 o más elementos.\n",
    "  - `elt` es el elemento cuyo índice estamos buscando.\n",
    "  - `left` y `right` representan los \"límites\" en términos de índices de la lista.\n",
    "    - Nota que los índices en Python comienzan en 0 y llegan hasta `len(lst) - 1`.\n",
    "    - Usemos `n` para denotar la longitud de la lista.\n",
    "    - Si  $0 \\leq \\text{`left`} \\leq \\text{`right`} \\leq n - 1$, el rango de búsqueda es no vacío. De lo contrario, se asume que el rango de búsqueda está vacío.\n",
    "\n",
    "La salida esperada es un número `index` o el valor `None` en Python:\n",
    "  - Si se devuelve un número `index`, este debe ser un índice válido de la lista entre `left` y `right` Y debe cumplirse que `lst[index] == elt`.\n",
    "  - En caso contrario, se devuelve `None` si y solo si la lista `lst` no contiene el elemento `elt`.\n",
    "\n",
    "---\n",
    "\n",
    "A continuación se muestra la implementación de `binarySearchHelper`."
   ]
  },
  {
   "cell_type": "code",
   "execution_count": null,
   "metadata": {
    "id": "e-Hn4Zwd0QPp"
   },
   "outputs": [],
   "source": [
    "def binarySearchHelper(lst, elt, left, right):\n",
    "    n = len(lst)\n",
    "    if (left > right):\n",
    "        return None  # La región de búsqueda está vacía, no se puede encontrar el elemento `elt` en la lista.\n",
    "    else:\n",
    "        # Si `elt` existe en la lista, debe estar entre los índices `left` y `right`.\n",
    "        mid = (left + right) // 2  # Nota: // es división entera.\n",
    "        if lst[mid] == elt:\n",
    "            return mid  # ¡BINGO! Hemos encontrado el elemento. Devolvemos su índice indicando que lo encontramos.\n",
    "        elif lst[mid] < elt:\n",
    "            # Buscamos en la parte derecha de la lista.\n",
    "            return binarySearchHelper(lst, elt, mid + 1, right)\n",
    "        else:  # lst[mid] > elt\n",
    "            # Buscamos en la parte izquierda de la lista.\n",
    "            return binarySearchHelper(lst, elt, left, mid - 1)\n"
   ]
  },
  {
   "cell_type": "code",
   "execution_count": null,
   "metadata": {
    "id": "dEuNpmxD0QPq"
   },
   "outputs": [],
   "source": [
    "def binarySearch(lst, elt):\n",
    "    n = len(lst)\n",
    "    if (elt < lst[0] or elt > lst[n-1]):\n",
    "        return None  # El elemento `elt` está fuera del rango de valores de la lista, no puede estar en la lista.\n",
    "    else:  # Nota: solo llegamos aquí si `lst[0] <= elt <= lst[n-1]`.\n",
    "        return binarySearchHelper(lst, elt, 0, n - 1)  # Iniciamos la búsqueda binaria con todo el rango de la lista.\n"
   ]
  },
  {
   "cell_type": "code",
   "execution_count": null,
   "metadata": {
    "id": "mb2SoTLN0QPr",
    "outputId": "38f3ac15-ab07-4612-b602-2fbacd69d722"
   },
   "outputs": [],
   "source": [
    "print(\"Buscando el 9 en la lista [0,2,3,4,6,9,12]\")\n",
    "print(binarySearch([0,2,3,4,6,9,12], 9))\n",
    "\n",
    "print(\"Buscando el 8 en la lista [1, 3, 4, 6, 8, 9, 10, 11, 12, 15]\")\n",
    "print(binarySearch([1, 3, 4, 6, 8, 9, 10, 11, 12, 15], 8))\n",
    "\n",
    "print(\"Buscando el 5 en la lista [1, 3, 4, 6, 8, 9, 10, 11, 12, 15]\")\n",
    "print(binarySearch([1, 3, 4, 6, 8, 9, 10, 11, 12, 15], 5))\n",
    "\n",
    "print(\"Buscando el 0 en la lista [0,2]\")\n",
    "print(binarySearch([0,2], 0))\n",
    "\n",
    "print(\"Buscando el 1 en la lista [0,2]\")\n",
    "print(binarySearch([0,2], 1))\n",
    "\n",
    "print(\"Buscando el 2 en la lista [0,2]\")\n",
    "print(binarySearch([0,2], 2))\n",
    "\n",
    "print(\"Buscando el 1 en la lista [1]\")\n",
    "print(binarySearch([1], 1))\n",
    "\n",
    "print(\"Buscando el 2 en la lista [1]\")\n",
    "print(binarySearch([1], 2))\n"
   ]
  },
  {
   "cell_type": "markdown",
   "metadata": {
    "id": "FJ54RpiL0QPs"
   },
   "source": [
    "## Implementando usando bucles"
   ]
  },
  {
   "cell_type": "code",
   "execution_count": null,
   "metadata": {
    "id": "aUban6Af0QPs"
   },
   "outputs": [],
   "source": [
    "def binSearch(lst, elt):\n",
    "    n = len(lst)\n",
    "    if (elt < lst[0] or elt > lst[n-1]):\n",
    "        return None  # El elemento `elt` está fuera del rango de valores de la lista, no puede estar en la lista.\n",
    "    else:\n",
    "        left = 0\n",
    "        right = n - 1\n",
    "        while (left <= right):\n",
    "            # Lógica exacta al enfoque recursivo.\n",
    "            mid = (left + right) // 2  # Nota: en Python 3 y versiones posteriores, // es división entera.\n",
    "            if lst[mid] == elt:\n",
    "                return mid  # ¡BINGO! Hemos encontrado el elemento. Devolvemos su índice.\n",
    "            elif lst[mid] < elt:\n",
    "                left = mid + 1  # Continuamos la búsqueda en la parte derecha de la lista.\n",
    "            else:  # lst[mid] > elt\n",
    "                right = mid - 1  # Continuamos la búsqueda en la parte izquierda de la lista.\n",
    "        return None  # Si no encontramos el elemento, devolvemos `None`.\n"
   ]
  },
  {
   "cell_type": "code",
   "execution_count": null,
   "metadata": {
    "id": "SJhKIV8-0QPt",
    "outputId": "0af891f4-03bb-4efd-b695-266e1aa90ee4"
   },
   "outputs": [],
   "source": [
    "print(\"Buscando el 9 en la lista [0,2,3,4,6,9,12]\")\n",
    "print(binSearch([0,2,3,4,6,9,12], 9))\n",
    "\n",
    "print(\"Buscando el 8 en la lista [1, 3, 4, 6, 8, 9, 10, 11, 12, 15]\")\n",
    "print(binSearch([1, 3, 4, 6, 8, 9, 10, 11, 12, 15], 8))\n",
    "\n",
    "print(\"Buscando el 5 en la lista [1, 3, 4, 6, 8, 9, 10, 11, 12, 15]\")\n",
    "print(binSearch([1, 3, 4, 6, 8, 9, 10, 11, 12, 15], 5))\n",
    "\n",
    "print(\"Buscando el 0 en la lista [0,2]\")\n",
    "print(binSearch([0,2], 0))\n",
    "\n",
    "print(\"Buscando el 1 en la lista [0,2]\")\n",
    "print(binSearch([0,2], 1))\n",
    "\n",
    "print(\"Buscando el 2 en la lista [0,2]\")\n",
    "print(binSearch([0,2], 2))\n"
   ]
  },
  {
   "cell_type": "markdown",
   "metadata": {
    "id": "r0x46fu-0QPt"
   },
   "source": [
    "## ¿Por qué funciona la búsqueda binaria?\n",
    "\n",
    "Proporcionaremos una prueba de que:\n",
    "  - Si `elt` pertenece a `lst` en el índice `j`, entonces la búsqueda binaria devolverá `j`, O\n",
    "  - Si `elt` no pertenece a `lst`, entonces la búsqueda binaria devolverá `None`.\n",
    "\n",
    "También proporcionaremos una prueba de que la búsqueda siempre termina.\n",
    "\n",
    "Para mayor conveniencia, razonaremos sobre la versión recursiva.\n",
    "\n",
    "#### Afirmación 1: Para cualquier llamada a la función `binarySearchHelper(lst, elt, left, right)`, si `elt` pertenece a la lista en el índice `j`, entonces `left <= j <= right`.\n",
    "\n",
    "**Prueba:** La prueba se realiza mediante **inducción** sobre las llamadas a la función `binarySearchHelper`.\n",
    "\n",
    "---\n",
    "\n",
    "**Caso base:** La primera llamada a `binarySearchHelper`, realizada desde la función `binarySearch`, satisface estas propiedades. Desde el inicio, tenemos `left = 0` y `right = n - 1`. La afirmación es trivialmente cierta: si `elt` pertenece a la lista, entonces su índice debe estar entre `0` y `n - 1`.\n",
    "\n",
    "---\n",
    "\n",
    "**Paso inductivo:** Si una llamada dada a `binarySearchHelper` satisface estas propiedades, entonces la llamada subsiguiente también debe cumplirlas.\n",
    "\n",
    "Para probar esto, observemos con atención el cuerpo de la función en cuestión:\n",
    "\n",
    "```python\n",
    "mid = (left + right) // 2  # Nota: // es división entera\n",
    "if lst[mid] == elt:\n",
    "    return mid\n",
    "elif lst[mid] < elt:  \n",
    "    return binarySearchHelper(lst, elt, mid + 1, right)  ## LLAMADA 1\n",
    "else:  # lst[mid] > elt\n",
    "    return binarySearchHelper(lst, elt, left, mid - 1)  ## LLAMADA 2\n",
    "```\n",
    "\n",
    "Observa que hay dos llamadas recursivas a `binarySearchHelper`, etiquetadas como `LLAMADA 1` y `LLAMADA 2` en el cuerpo de la función:\n",
    "  - Para **LLAMADA 1**, esta se realiza solo si `lst[mid] < elt`. Como `lst` está ordenada, si `elt` se encuentra en la lista, solo puede estar en el rango de índices `[mid + 1, right]`. Por lo tanto, la propiedad se mantiene para **LLAMADA 1**.\n",
    "  - Para **LLAMADA 2**, esta se realiza solo si `lst[mid] > elt`. Por lo tanto, si `elt` se encuentra en la lista, solo puede estar en el rango de índices `[left, mid - 1]`. Por lo tanto, la propiedad se mantiene para **LLAMADA 2**."
   ]
  },
  {
   "cell_type": "markdown",
   "metadata": {
    "id": "OvDeFhqW0QPu"
   },
   "source": [
    "**Definición:** el \"tamaño\" de la región de búsqueda en la búsqueda binaria se define como `(right - left + 1)`.\n",
    "\n",
    "---\n",
    "\n",
    "**Afirmación 2:** Para cualquier llamada a la función `binarySearchHelper(lst, elt, left, right)`, se cumple que: (a) terminamos encontrando `elt`, (b) concluimos que `elt` no existe en `lst`, o (c) hacemos una nueva llamada a `binarySearchHelper` con una región de búsqueda estrictamente más pequeña.\n",
    "\n",
    "---\n",
    "\n",
    "**Prueba:** La prueba de esta afirmación es directa a partir del código.\n",
    "\n",
    "```python\n",
    "mid = (left + right) // 2  # Nota: // es división entera\n",
    "if lst[mid] == elt:\n",
    "    return mid\n",
    "elif lst[mid] < elt:  \n",
    "    return binarySearchHelper(lst, elt, mid + 1, right)  ## LLAMADA 1\n",
    "else:  # lst[mid] > elt\n",
    "    return binarySearchHelper(lst, elt, left, mid - 1)  ## LLAMADA 2\n",
    "```\n",
    "\n",
    "---\n",
    "\n",
    "Observa que para la **LLAMADA 1**, el nuevo tamaño de la región de búsqueda es `right - (mid + 1) + 1`, que es igual a `right - mid`. Nota que `mid >= left`, o en otras palabras, `mid > left - 1`. Por lo tanto, el nuevo tamaño de la región de búsqueda es `right - mid < right - (left - 1) = right - left + 1`. Así, la región de búsqueda de la nueva llamada es estrictamente más pequeña que la región de búsqueda de la llamada original.\n",
    "\n",
    "---\n",
    "\n",
    "Observa que para la **LLAMADA 2**, el nuevo tamaño de la región de búsqueda es `mid - left`. Nuevamente, dado que `mid <= right`, observamos que `mid < right + 1`. Por lo tanto, `mid - left < right + 1 - left`. Así, la región de búsqueda de la nueva llamada es estrictamente más pequeña que la región de búsqueda de la llamada original."
   ]
  },
  {
   "cell_type": "markdown",
   "metadata": {
    "id": "el1zUVH60QPv"
   },
   "source": [
    "### Argumento general de correctitud\n",
    "\n",
    "- Cada vez que se realiza una llamada a `binarySearchHelper(lst, elt, left, right)`, concluimos que si `elt` se encuentra en `lst`, entonces pertenece al rango `[left, right]`. Esto corresponde a la **afirmación 1**.\n",
    "- Por lo tanto, si `left > right`, el rango de índices está vacío y podemos concluir que `elt` no puede pertenecer a la lista.\n",
    "- Además, la región de búsqueda en cualquier llamada sucesiva es estrictamente más pequeña que la región de búsqueda anterior.\n",
    "- Por lo tanto, eventualmente, debemos terminar ya sea encontrando `elt` o alcanzando la condición `left > right`."
   ]
  },
  {
   "cell_type": "markdown",
   "metadata": {
    "id": "NxZ8g-1q0QPv"
   },
   "source": [
    "#### Terminación\n",
    "\n",
    "La afirmación 2 prueba directamente la terminación."
   ]
  },
  {
   "cell_type": "markdown",
   "metadata": {
    "id": "Gh1Gdsv20QPw"
   },
   "source": [
    "### Tiempo de ejecución en el peor caso\n",
    "\n",
    "**Afirmación 3:** Consideremos una llamada a `binarySearchHelper(lst, elt, l, r)` y una llamada subsiguiente `binarySearchHelper(lst, elt, l1, r1)`. La nueva región de búsqueda `r1 - l1 + 1` es como máximo la mitad del tamaño de la región de búsqueda anterior `r - l + 1`. Formalmente:\n",
    "$$ r1 - l1 + 1 \\leq \\frac{(r - l + 1)}{2} $$\n",
    "\n",
    "---\n",
    "\n",
    "**Prueba**\n",
    "\n",
    "Consideremos el código de `binarySearchHelper(lst, elt, l, r)` (Nota que usamos `l`, `r` en lugar de `left` y `right`. De manera similar, usamos `m` en lugar de `mid`):\n",
    "```python\n",
    "m = (left + right) // 2  # Nota: // es división entera\n",
    "if lst[m] == elt:\n",
    "    return mid\n",
    "elif lst[m] < elt:  \n",
    "    return binarySearchHelper(lst, elt, m + 1, r)  ## LLAMADA 1\n",
    "else:  # lst[mid] > elt\n",
    "    return binarySearchHelper(lst, elt, l, m - 1)  ## LLAMADA 2\n",
    "```\n",
    "\n",
    "---\n",
    "\n",
    "Cualquier llamada subsiguiente es una **LLAMADA 1** o **LLAMADA 2**.\n",
    "\n",
    "  - Para **LLAMADA 1**, el tamaño de la nueva región de búsqueda es:\n",
    "  $$ r - (m + 1) + 1 = r - m = r - \\left\\lfloor \\frac{(l + r)}{2} \\right\\rfloor \\leq r - \\frac{(l + r - 1)}{2} \\leq \\frac{(r - l + 1)}{2} $$\n",
    "  \n",
    "  - Para **LLAMADA 2**, el tamaño de la nueva región de búsqueda es:\n",
    "  $$ (m - 1) - l + 1 = m - l = \\left\\lfloor \\frac{(l + r)}{2} \\right\\rfloor - l \\leq \\frac{(l + r)}{2} - l \\leq \\frac{(r - l)}{2} \\leq \\frac{(r - l + 1)}{2} $$\n",
    "\n",
    "\n",
    "En ambos casos, llegamos a la relación de que la nueva región de búsqueda es menor o igual a la mitad del tamaño de la región de búsqueda anterior."
   ]
  },
  {
   "cell_type": "markdown",
   "metadata": {
    "id": "uAwxfIa80QPw"
   },
   "source": [
    "**Análisis de complejidad**\n",
    "\n",
    "Así, el tamaño inicial de la región de búsqueda es $n$, que corresponde al tamaño de la lista. En cada llamada subsiguiente, la región de búsqueda se reduce a la mitad de la región de búsqueda anterior.\n",
    "\n",
    "Por lo tanto, si realizamos $k$ iteraciones de `binarySearchHelper`, el tamaño de la región de búsqueda será como máximo $ \\frac{n}{2^k}$.\n",
    "\n",
    "Cuando el tamaño de la región de búsqueda es menor que $1$, debemos detenernos, ya que se alcanza la condición `left > right`.\n",
    "\n",
    "En el peor caso, la búsqueda binaria puede ejecutarse durante `k` pasos siempre que $ \\frac{n}{2^k} \\geq 1 $.\n",
    "\n",
    "En otras palabras, $2^k \\leq n$, es decir, $k \\leq \\log_2(n)$.\n",
    "\n",
    "Cada llamada recursiva implica un número constante de operaciones. Por lo tanto, concluimos que el tiempo de ejecución está acotado superiormente por $O(\\log(n))$.\n",
    "\n",
    "Un análisis similar muestra que, para cualquier $n$, podemos construir una lista de tamaño $n$ y un elemento faltante de manera que el algoritmo tome un tiempo proporcional a $\\log_2(n)$ para ejecutarse. Esto nos permite concluir que el tiempo de ejecución debe ser $\\Omega(\\log(n))$ en el peor caso.\n",
    "\n",
    "Combinando estos resultados, obtenemos que el tiempo de ejecución es $\\Theta(\\log(n))$."
   ]
  },
  {
   "cell_type": "markdown",
   "metadata": {},
   "source": [
    "### Ejercicios\n",
    "\n",
    "1 . Escribe una función `binary_search` en Python que reciba como parámetros una lista ordenada y un número, y devuelva el índice del número si se encuentra en la lista o `None` en caso contrario. Implementa la versión iterativa y recursiva.\n",
    "\n",
    "**Objetivo:** Comparar los tiempos de ejecución de ambas versiones.\n",
    "\n",
    "2 . Dada una lista ordenada de números enteros con elementos duplicados, implementa una función `first_occurrence(lst, elt)` que devuelva el índice de la **primera aparición** de un número `elt`.\n",
    "\n",
    "**Ejemplo:**  \n",
    "Entrada: `lst = [1, 2, 2, 2, 3, 4, 5], elt = 2`  \n",
    "Salida: `1` (índice de la primera aparición de `2`).\n",
    "\n",
    "**Sugerencia:** Utiliza modificaciones en la condición `mid` para encontrar la primera aparición.\n",
    "\n",
    "3 . Modifica el algoritmo anterior para que encuentre el índice de la **última aparición** de un elemento en la lista.\n",
    "\n",
    "4 . Dado un arreglo ordenado rotado, escribe una función `find_min(lst)` que utilice búsqueda binaria para encontrar el elemento mínimo.\n",
    "\n",
    "**Ejemplo:**  \n",
    "Entrada: `lst = [4, 5, 6, 7, 0, 1, 2]`  \n",
    "Salida: `0`.\n",
    "\n",
    "**Desafío:** Implementa una solución con un tiempo de ejecución de $O(\\log n)$.\n",
    "\n",
    "5 . Dado un número entero `x`, implementa una función `integer_sqrt(x)` que encuentre la raíz cuadrada entera de `x` utilizando búsqueda binaria.\n",
    "\n",
    "**Ejemplo:**  \n",
    "Entrada: `x = 17`  \n",
    "Salida: `4` (ya que $4^2 = 16 \\leq 17$ y $5^2 = 25 > 17$).\n",
    "\n",
    "#### Ejercicios opcionales relacionados a git\n",
    "\n",
    "6 . Implementa una simulación del comando `git bisect` utilizando búsqueda binaria. \n",
    "\n",
    "- Dado un conjunto de commits en una lista `commits = [\"good\", \"good\", \"good\", \"bad\", \"bad\"]`, encuentra el primer commit \"bad\" donde comenzó a fallar el proyecto.\n",
    "  \n",
    "7 . Crea un script que utilice el comando `git log --grep <keyword>` para buscar commits relacionados con una palabra clave, y analiza cómo podrías usar un algoritmo eficiente para navegar por los resultados.\n",
    "\n",
    "8 . Escribe un script en Python que simule el comportamiento de `git diff` entre dos versiones de archivos utilizando un algoritmo de búsqueda de **mínima edición** (como Levenshtein). **Desafío:** Agrega opciones de análisis de cambios como adiciones y eliminaciones en los archivos.\n",
    "\n",
    "9 . Implementa una función que reciba una lista de commits y seleccione solo los commits correspondientes a ciertos cambios (simulación de `git cherry-pick`). Utiliza un enfoque de búsqueda para verificar si un commit pertenece a una rama específica.\n",
    "\n",
    "\n",
    "10 . Implementa un script que simule `git blame` para rastrear qué líneas de código fueron modificadas por cada commit, utilizando un mapa de búsqueda para identificar contribuciones específicas.\n"
   ]
  },
  {
   "cell_type": "code",
   "execution_count": null,
   "metadata": {},
   "outputs": [],
   "source": [
    "### Tus respuestas"
   ]
  }
 ],
 "metadata": {
  "colab": {
   "provenance": []
  },
  "kernelspec": {
   "display_name": "Python 3 (ipykernel)",
   "language": "python",
   "name": "python3"
  },
  "language_info": {
   "codemirror_mode": {
    "name": "ipython",
    "version": 3
   },
   "file_extension": ".py",
   "mimetype": "text/x-python",
   "name": "python",
   "nbconvert_exporter": "python",
   "pygments_lexer": "ipython3",
   "version": "3.12.4"
  }
 },
 "nbformat": 4,
 "nbformat_minor": 4
}
